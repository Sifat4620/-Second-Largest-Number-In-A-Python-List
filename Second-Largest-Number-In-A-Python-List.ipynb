{
 "cells": [
  {
   "cell_type": "code",
   "execution_count": null,
   "id": "a83ec696",
   "metadata": {},
   "outputs": [],
   "source": [
    "data = [55, 1, 45, 68, 159, 75, 5, 14, 159]\n",
    "\n",
    "\n",
    "def find_second_maximum(list1):\n",
    "    first_max = max(list1[0], list1[1])\n",
    "    second_max = min(list1[0], list1[1])\n",
    "    for i in range(2, len(list1)):\n",
    "        if list1[i] > first_max:\n",
    "            second_max = first_max\n",
    "            first_max = list1[i]\n",
    "\n",
    "        elif list1[i] > second_max and first_max != list1[i]:\n",
    "            second_max = list1[i]\n",
    "    return second_max\n",
    "\n",
    "\n",
    "print(\"Second maximum number is \", find_second_maximum(data))"
   ]
  }
 ],
 "metadata": {
  "kernelspec": {
   "display_name": "Python 3 (ipykernel)",
   "language": "python",
   "name": "python3"
  },
  "language_info": {
   "codemirror_mode": {
    "name": "ipython",
    "version": 3
   },
   "file_extension": ".py",
   "mimetype": "text/x-python",
   "name": "python",
   "nbconvert_exporter": "python",
   "pygments_lexer": "ipython3",
   "version": "3.9.13"
  }
 },
 "nbformat": 4,
 "nbformat_minor": 5
}
